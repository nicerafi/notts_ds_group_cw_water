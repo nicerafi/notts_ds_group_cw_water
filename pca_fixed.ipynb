{
 "cells": [
  {
   "cell_type": "code",
   "execution_count": 1,
   "id": "9028ec94",
   "metadata": {},
   "outputs": [],
   "source": [
    "import pandas as pd\n",
    "import numpy as np\n",
    "import matplotlib.pyplot as plt\n",
    "import seaborn as sns\n",
    "from sklearn.preprocessing import MinMaxScaler"
   ]
  },
  {
   "cell_type": "code",
   "execution_count": 2,
   "id": "254df34b",
   "metadata": {},
   "outputs": [],
   "source": [
    "values=pd.read_csv('training_values.csv')\n",
    "labels=pd.read_csv('training_labels.csv')\n",
    "df = values.merge(labels, on='id')"
   ]
  },
  {
   "cell_type": "code",
   "execution_count": 3,
   "id": "6ca892e3",
   "metadata": {},
   "outputs": [],
   "source": [
    "df['gps_height'].replace(0.0, np.nan, inplace=True)\n",
    "df['population'].replace(0.0, np.nan, inplace=True)\n",
    "df['amount_tsh'].replace(0.0, np.nan, inplace=True)\n",
    "df['longitude'].replace(0.0, np.nan, inplace=True)\n",
    "df['latitude'].replace(0.0, np.nan, inplace=True)\n",
    "df['construction_year'].replace(0.0, np.nan, inplace=True)"
   ]
  },
  {
   "cell_type": "code",
   "execution_count": 4,
   "id": "410c5f01",
   "metadata": {},
   "outputs": [],
   "source": [
    "import datetime\n",
    "current_year = datetime.datetime.now().year\n",
    "df['waterpoint_age'] = current_year - df['construction_year']\n",
    "current_date = datetime.datetime.now()\n",
    "df['date_recorded'] = pd.to_datetime(df['date_recorded'])\n",
    "df['days_since_recorded'] = (current_date - df['date_recorded']).dt.days\n",
    "df.drop('date_recorded',axis=1,inplace=True)"
   ]
  },
  {
   "cell_type": "code",
   "execution_count": 5,
   "id": "f34a9f14",
   "metadata": {},
   "outputs": [],
   "source": [
    "# fill na values in true / false columns as false\n",
    "df['permit'] = df['permit'].fillna(False)\n",
    "df['public_meeting'] = df['public_meeting'].fillna(False)"
   ]
  },
  {
   "cell_type": "code",
   "execution_count": 6,
   "id": "ec7b692d",
   "metadata": {},
   "outputs": [],
   "source": [
    "# turn all string values lowercase for consistency \n",
    "string_columns = df.select_dtypes(include='object').columns\n",
    "df[string_columns] = df[string_columns].apply(lambda x: x.str.lower())\n",
    "df[\"funder\"].fillna(\"other\", inplace=True)\n",
    "df[\"subvillage\"].fillna(\"other\", inplace=True)\n",
    "df[\"wpt_name\"].fillna(\"other\", inplace=True)\n",
    "df[\"scheme_management\"].fillna(\"other\", inplace=True)\n",
    "df['installer'].fillna(\"other\", inplace=True)\n",
    "df[\"scheme_name\"].fillna(\"other\", inplace=True)"
   ]
  },
  {
   "cell_type": "code",
   "execution_count": 7,
   "id": "f7034984",
   "metadata": {},
   "outputs": [],
   "source": [
    "# drop uneccesary features (some have same info as other columns)\n",
    "df.drop('management_group',axis=1,inplace=True)\n",
    "df.drop('extraction_type_group',axis=1,inplace=True)\n",
    "df.drop('scheme_name',axis=1,inplace=True)\n",
    "df.drop('payment',axis=1,inplace=True)\n",
    "df.drop('quality_group',axis=1,inplace=True)\n",
    "df.drop('quantity_group',axis=1,inplace=True)\n",
    "df.drop('source_type',axis=1,inplace=True)\n",
    "df.drop('waterpoint_type_group',axis=1,inplace=True)\n",
    "df.drop('ward',axis=1,inplace=True)\n",
    "df.drop('installer',axis=1,inplace=True)\n",
    "df.drop('permit', axis=1, inplace=True)\n",
    "df.drop('construction_year', axis=1, inplace=True)"
   ]
  },
  {
   "cell_type": "code",
   "execution_count": 8,
   "id": "0e2b397f",
   "metadata": {},
   "outputs": [],
   "source": [
    "train = df.copy()\n",
    "label = train.pop('status_group')"
   ]
  },
  {
   "cell_type": "code",
   "execution_count": 9,
   "id": "8e48dfb7",
   "metadata": {},
   "outputs": [],
   "source": [
    "from sklearn import preprocessing\n",
    "le = preprocessing.LabelEncoder()\n",
    "for column_name in train.columns:\n",
    "    if train[column_name].dtype == object:\n",
    "        train[column_name] = le.fit_transform(train[column_name])\n",
    "    else:\n",
    "        pass"
   ]
  },
  {
   "cell_type": "code",
   "execution_count": 10,
   "id": "4eeaedbf",
   "metadata": {},
   "outputs": [],
   "source": [
    "from sklearn.model_selection import train_test_split\n",
    "X_train, X_test, y_train, y_test = train_test_split(train, label, test_size=0.3, random_state=42)"
   ]
  },
  {
   "cell_type": "code",
   "execution_count": 11,
   "id": "6a48b8c3",
   "metadata": {},
   "outputs": [],
   "source": [
    "X_train[\"gps_height\"].fillna(X_train.groupby(['region'])[\"gps_height\"].transform(\"mean\"), inplace=True)\n",
    "X_train[\"gps_height\"].fillna(X_train[\"gps_height\"].mean(), inplace=True)\n",
    "\n",
    "X_train[\"population\"].fillna(X_train.groupby(['region'])[\"population\"].transform(\"mean\"), inplace=True)\n",
    "X_train[\"population\"].fillna(X_train[\"population\"].mean(), inplace=True)\n",
    "\n",
    "X_train[\"amount_tsh\"].fillna(X_train.groupby(['region'])[\"amount_tsh\"].transform(\"mean\"), inplace=True)\n",
    "X_train[\"amount_tsh\"].fillna(X_train[\"amount_tsh\"].mean(), inplace=True)\n",
    "\n",
    "\n",
    "X_train[\"waterpoint_age\"].fillna(X_train.groupby(['region'])[\"waterpoint_age\"].transform(\"mean\"), inplace=True)\n",
    "X_train[\"waterpoint_age\"].fillna(X_train[\"waterpoint_age\"].mean(), inplace=True)\n",
    "\n",
    "X_train[\"longitude\"].fillna(X_train.groupby(['region'])[\"longitude\"].transform(\"mean\"), inplace=True)"
   ]
  },
  {
   "cell_type": "code",
   "execution_count": 12,
   "id": "aa2d3907",
   "metadata": {},
   "outputs": [],
   "source": [
    "X_test[\"gps_height\"].fillna(X_test.groupby(['region'])[\"gps_height\"].transform(\"mean\"), inplace=True)\n",
    "X_test[\"gps_height\"].fillna(X_test[\"gps_height\"].mean(), inplace=True)\n",
    "\n",
    "X_test[\"population\"].fillna(X_test.groupby(['region'])[\"population\"].transform(\"mean\"), inplace=True)\n",
    "X_test[\"population\"].fillna(X_test[\"population\"].mean(), inplace=True)\n",
    "\n",
    "X_test[\"amount_tsh\"].fillna(X_test.groupby(['region'])[\"amount_tsh\"].transform(\"mean\"), inplace=True)\n",
    "X_test[\"amount_tsh\"].fillna(X_test[\"amount_tsh\"].mean(), inplace=True)\n",
    "\n",
    "\n",
    "X_test[\"waterpoint_age\"].fillna(X_test.groupby(['region'])[\"waterpoint_age\"].transform(\"mean\"), inplace=True)\n",
    "X_test[\"waterpoint_age\"].fillna(X_test[\"waterpoint_age\"].mean(), inplace=True)\n",
    "\n",
    "X_test[\"longitude\"].fillna(X_test.groupby(['region'])[\"longitude\"].transform(\"mean\"), inplace=True)"
   ]
  },
  {
   "cell_type": "code",
   "execution_count": 17,
   "id": "4bce3a1e",
   "metadata": {},
   "outputs": [],
   "source": [
    "from sklearn.ensemble import RandomForestClassifier\n",
    "from sklearn.metrics import classification_report \n",
    "from sklearn.model_selection import GridSearchCV,RandomizedSearchCV \n",
    "from sklearn.metrics import accuracy_score\n"
   ]
  },
  {
   "cell_type": "code",
   "execution_count": 24,
   "id": "5ef576bc",
   "metadata": {},
   "outputs": [],
   "source": [
    "model_rfc = RandomForestClassifier()\n",
    "\n",
    "param_grid = { \n",
    "    'n_estimators': [50, 250, 500], \n",
    "    'max_features': ['sqrt', 'log2', None], \n",
    "    'n_jobs': [-1] , \n",
    "} "
   ]
  },
  {
   "cell_type": "code",
   "execution_count": null,
   "id": "68807d78",
   "metadata": {},
   "outputs": [],
   "source": [
    "grid_search = GridSearchCV(RandomForestClassifier(), \n",
    "                           param_grid=param_grid) \n",
    "grid_search.fit(X_train, y_train) \n",
    "print(grid_search.best_estimator_) "
   ]
  },
  {
   "cell_type": "code",
   "execution_count": null,
   "id": "a9c4c610",
   "metadata": {},
   "outputs": [],
   "source": [
    "results = pd.DataFrame(grid_search.cv_results_)\n",
    "columns = ['param_n_estimators', 'param_max_features', 'mean_test_score', 'std_test_score']\n",
    "results_sorted = results[columns].sort_values(by='mean_test_score', ascending=False)\n",
    "results_sorted.head(10)\n",
    "\n",
    "\n"
   ]
  },
  {
   "cell_type": "code",
   "execution_count": 15,
   "id": "940ebb11",
   "metadata": {},
   "outputs": [
    {
     "name": "stdout",
     "output_type": "stream",
     "text": [
      "Cross-validation scores: [0.80627706 0.80519481 0.80784031 0.80796056 0.80459355]\n",
      "Mean accuracy: 0.8063732563732564\n"
     ]
    }
   ],
   "source": [
    "from sklearn.model_selection import cross_val_score\n",
    "rf = RandomForestClassifier(n_estimators=1000,max_features='log2', n_jobs = -1)\n",
    "scores = cross_val_score(rf, X_train, y_train, cv=5)\n",
    "# Print the cross-validation scores\n",
    "print(\"Cross-validation scores:\", scores)\n",
    "\n",
    "# Calculate and print the mean score\n",
    "print(\"Mean accuracy:\", scores.mean())"
   ]
  },
  {
   "cell_type": "code",
   "execution_count": 23,
   "id": "bb410ccb",
   "metadata": {},
   "outputs": [
    {
     "name": "stdout",
     "output_type": "stream",
     "text": [
      "Accuracy: 0.8117845117845118\n"
     ]
    }
   ],
   "source": [
    "from sklearn.metrics import accuracy_score\n",
    "best = RandomForestClassifier(n_estimators=250,max_features='log2', n_jobs = -1)\n",
    "best.fit(X_train, y_train)\n",
    "best_y_pred = best.predict(X_test)\n",
    "accuracy = accuracy_score(y_test, best_y_pred)\n",
    "print(\"Accuracy:\", accuracy)"
   ]
  },
  {
   "cell_type": "code",
   "execution_count": 22,
   "id": "92818061",
   "metadata": {},
   "outputs": [
    {
     "name": "stdout",
     "output_type": "stream",
     "text": [
      "<catboost.core.CatBoostClassifier object at 0x00000202003C5640>\n",
      "0.7894901394901395\n",
      "{'max_depth': 6, 'n_estimators': 1000, 'verbose': False}\n"
     ]
    }
   ],
   "source": [
    "grid = {'max_depth': [3,4,5,6],'n_estimators':[100, 200, 300, 400, 500, 1000], 'verbose':[False]}\n",
    "gscv = GridSearchCV (estimator = catboost, param_grid = grid, scoring ='accuracy', cv = 5)\n",
    "gscv.fit(X_train, y_train)\n",
    "#returns the estimator with the best performance\n",
    "print(gscv.best_estimator_)\n",
    "\n",
    "#returns the best score\n",
    "print(gscv.best_score_)\n",
    "\n",
    "#returns the best parameters\n",
    "print(gscv.best_params_)"
   ]
  },
  {
   "cell_type": "code",
   "execution_count": null,
   "id": "cf2014f0",
   "metadata": {},
   "outputs": [],
   "source": [
    "from sklearn.metrics import accuracy_score\n",
    "accuracy = accuracy_score(y_test, y_pred)\n",
    "print(\"Accuracy:\", accuracy)"
   ]
  },
  {
   "cell_type": "code",
   "execution_count": null,
   "id": "8f7be860",
   "metadata": {},
   "outputs": [],
   "source": [
    "from sklearn.neural_network import MLPClassifier\n",
    "clf = MLPClassifier(random_state=1, max_iter=500).fit(X_train, y_train)\n",
    "y_test_mlp = clf.predict(X_test)\n",
    "accuracy = accuracy_score(y_test, y_test_mlp)\n",
    "print(\"Accuracy:\", accuracy)"
   ]
  },
  {
   "cell_type": "code",
   "execution_count": 18,
   "id": "379aa929",
   "metadata": {},
   "outputs": [
    {
     "name": "stdout",
     "output_type": "stream",
     "text": [
      "Accuracy: 0.7930415263748597\n"
     ]
    }
   ],
   "source": [
    "from catboost import CatBoostClassifier\n",
    "catboost = CatBoostClassifier()\n",
    "catboost.fit(X_train, y_train,verbose=False)\n",
    "y_pred_cb = catboost.predict(X_test)\n",
    "accuracy = accuracy_score(y_test, y_pred_cb)\n",
    "print(\"Accuracy:\", accuracy)"
   ]
  },
  {
   "cell_type": "code",
   "execution_count": 38,
   "id": "757f415f",
   "metadata": {},
   "outputs": [
    {
     "name": "stdout",
     "output_type": "stream",
     "text": [
      "Accuracy: 0.7883838383838384\n"
     ]
    }
   ],
   "source": [
    "from sklearn.ensemble import GradientBoostingClassifier\n",
    "gb = GradientBoostingClassifier(n_estimators = 1000)\n",
    "gb_model = gb.fit(X_train, y_train)\n",
    "y_pred_gb = gb_model.predict(X_test)\n",
    "\n",
    "accuracy = accuracy_score(y_test, y_pred_gb)\n",
    "print(\"Accuracy:\", accuracy)\n"
   ]
  },
  {
   "cell_type": "code",
   "execution_count": 32,
   "id": "ad522e0a",
   "metadata": {},
   "outputs": [],
   "source": [
    "from sklearn.preprocessing import StandardScaler\n",
    "scaler = StandardScaler()\n",
    "scaled_X_train = scaler.fit_transform(X_train)\n",
    "scaled_X_test = scaler.fit_transform(X_test)\n",
    "\n",
    "from sklearn.decomposition import PCA\n",
    "pca = PCA(n_components=20)\n",
    "pca_X_train = pca.fit_transform(scaled_X_train)\n",
    "pca_X_test = pca.fit_transform(scaled_X_test)"
   ]
  },
  {
   "cell_type": "code",
   "execution_count": 33,
   "id": "e197634a",
   "metadata": {},
   "outputs": [
    {
     "name": "stdout",
     "output_type": "stream",
     "text": [
      "Accuracy: 0.44753086419753085\n"
     ]
    }
   ],
   "source": [
    "# PCA TESTING\n",
    "model_rfc_pca = RandomForestClassifier(n_estimators=250, n_jobs = -1)\n",
    "model_rfc_pca.fit(pca_X_train,y_train)\n",
    "y_pred = model_rfc_pca.predict(pca_X_test)\n",
    "accuracy = accuracy_score(y_test, y_pred)\n",
    "print(\"Accuracy:\", accuracy)"
   ]
  },
  {
   "cell_type": "code",
   "execution_count": 25,
   "id": "f3a7e322",
   "metadata": {},
   "outputs": [
    {
     "name": "stdout",
     "output_type": "stream",
     "text": [
      "<class 'pandas.core.frame.DataFrame'>\n",
      "Int64Index: 41580 entries, 43069 to 56422\n",
      "Data columns (total 29 columns):\n",
      " #   Column                 Non-Null Count  Dtype  \n",
      "---  ------                 --------------  -----  \n",
      " 0   id                     41580 non-null  int64  \n",
      " 1   amount_tsh             41580 non-null  float64\n",
      " 2   funder                 41580 non-null  int32  \n",
      " 3   gps_height             41580 non-null  float64\n",
      " 4   longitude              41580 non-null  float64\n",
      " 5   latitude               41580 non-null  float64\n",
      " 6   wpt_name               41580 non-null  int32  \n",
      " 7   num_private            41580 non-null  int64  \n",
      " 8   basin                  41580 non-null  int32  \n",
      " 9   subvillage             41580 non-null  int32  \n",
      " 10  region                 41580 non-null  int32  \n",
      " 11  region_code            41580 non-null  int64  \n",
      " 12  district_code          41580 non-null  int64  \n",
      " 13  lga                    41580 non-null  int32  \n",
      " 14  population             41580 non-null  float64\n",
      " 15  public_meeting         41580 non-null  bool   \n",
      " 16  recorded_by            41580 non-null  int32  \n",
      " 17  scheme_management      41580 non-null  int32  \n",
      " 18  extraction_type        41580 non-null  int32  \n",
      " 19  extraction_type_class  41580 non-null  int32  \n",
      " 20  management             41580 non-null  int32  \n",
      " 21  payment_type           41580 non-null  int32  \n",
      " 22  water_quality          41580 non-null  int32  \n",
      " 23  quantity               41580 non-null  int32  \n",
      " 24  source                 41580 non-null  int32  \n",
      " 25  source_class           41580 non-null  int32  \n",
      " 26  waterpoint_type        41580 non-null  int32  \n",
      " 27  waterpoint_age         41580 non-null  float64\n",
      " 28  days_since_recorded    41580 non-null  int64  \n",
      "dtypes: bool(1), float64(6), int32(17), int64(5)\n",
      "memory usage: 6.5 MB\n"
     ]
    }
   ],
   "source": [
    "X_train.info()"
   ]
  },
  {
   "cell_type": "code",
   "execution_count": 37,
   "id": "4dfe47cf",
   "metadata": {},
   "outputs": [
    {
     "name": "stdout",
     "output_type": "stream",
     "text": [
      "Accuracy: 0.5299102132435466\n"
     ]
    }
   ],
   "source": [
    "from sklearn.naive_bayes import GaussianNB\n",
    "clf = GaussianNB()\n",
    "clf.fit(X_train, y_train)\n",
    "y_pred_gnb = clf.predict(X_test)\n",
    "accuracy = accuracy_score(y_test, y_pred_gnb)\n",
    "print(\"Accuracy:\", accuracy)"
   ]
  },
  {
   "cell_type": "code",
   "execution_count": 36,
   "id": "e72b6bec",
   "metadata": {},
   "outputs": [
    {
     "name": "stdout",
     "output_type": "stream",
     "text": [
      "Accuracy: 0.4628507295173962\n"
     ]
    }
   ],
   "source": [
    "catboost_pca = CatBoostClassifier()\n",
    "catboost_pca.fit(pca_X_train, y_train,verbose=False)\n",
    "y_pred_cb = catboost_pca.predict(pca_X_test)\n",
    "accuracy = accuracy_score(y_test, y_pred_cb)\n",
    "print(\"Accuracy:\", accuracy)"
   ]
  },
  {
   "cell_type": "code",
   "execution_count": 39,
   "id": "cc1c6ef9",
   "metadata": {},
   "outputs": [],
   "source": [
    "X_train_m, X_test_m, y_train_m, y_test_m = train_test_split(train, label, test_size=0.3, random_state=42)"
   ]
  },
  {
   "cell_type": "code",
   "execution_count": 42,
   "id": "830a9cfe",
   "metadata": {},
   "outputs": [],
   "source": [
    "X_train_m[\"gps_height\"].fillna(X_train_m.groupby(['region'])[\"gps_height\"].transform(\"median\"), inplace=True)\n",
    "X_train_m[\"gps_height\"].fillna(X_train_m[\"gps_height\"].mean(), inplace=True)\n",
    "\n",
    "X_train_m[\"population\"].fillna(X_train_m.groupby(['region'])[\"population\"].transform(\"median\"), inplace=True)\n",
    "X_train_m[\"population\"].fillna(X_train_m[\"population\"].median(), inplace=True)\n",
    "\n",
    "X_train_m[\"amount_tsh\"].fillna(X_train_m.groupby(['region'])[\"amount_tsh\"].transform(\"median\"), inplace=True)\n",
    "X_train_m[\"amount_tsh\"].fillna(X_train_m[\"amount_tsh\"].median(), inplace=True)\n",
    "\n",
    "\n",
    "X_train_m[\"waterpoint_age\"].fillna(X_train_m.groupby(['region'])[\"waterpoint_age\"].transform(\"median\"), inplace=True)\n",
    "X_train_m[\"waterpoint_age\"].fillna(X_train_m[\"waterpoint_age\"].median(), inplace=True)\n",
    "\n",
    "X_train_m[\"longitude\"].fillna(X_train_m.groupby(['region'])[\"longitude\"].transform(\"median\"), inplace=True)"
   ]
  },
  {
   "cell_type": "code",
   "execution_count": 44,
   "id": "a08a861e",
   "metadata": {},
   "outputs": [],
   "source": [
    "X_test_m[\"gps_height\"].fillna(X_test_m.groupby(['region'])[\"gps_height\"].transform(\"median\"), inplace=True)\n",
    "X_test_m[\"gps_height\"].fillna(X_test_m[\"gps_height\"].median(), inplace=True)\n",
    "\n",
    "X_test_m[\"population\"].fillna(X_test_m.groupby(['region'])[\"population\"].transform(\"median\"), inplace=True)\n",
    "X_test_m[\"population\"].fillna(X_test_m[\"population\"].median(), inplace=True)\n",
    "\n",
    "X_test_m[\"amount_tsh\"].fillna(X_test_m.groupby(['region'])[\"amount_tsh\"].transform(\"median\"), inplace=True)\n",
    "X_test_m[\"amount_tsh\"].fillna(X_test_m[\"amount_tsh\"].median(), inplace=True)\n",
    "\n",
    "\n",
    "X_test_m[\"waterpoint_age\"].fillna(X_test_m.groupby(['region'])[\"waterpoint_age\"].transform(\"median\"), inplace=True)\n",
    "X_test_m[\"waterpoint_age\"].fillna(X_test_m[\"waterpoint_age\"].median(), inplace=True)\n",
    "\n",
    "X_test_m[\"longitude\"].fillna(X_test_m.groupby(['region'])[\"longitude\"].transform(\"median\"), inplace=True)"
   ]
  },
  {
   "cell_type": "code",
   "execution_count": 46,
   "id": "699fb31d",
   "metadata": {},
   "outputs": [
    {
     "name": "stdout",
     "output_type": "stream",
     "text": [
      "Accuracy: 0.8109988776655443\n"
     ]
    }
   ],
   "source": [
    "rf_median = RandomForestClassifier(n_estimators=250,max_features='log2', n_jobs = -1)\n",
    "rf_median.fit(X_train_m,y_train_m)\n",
    "y_pred_median = rf_median.predict(X_test_m)\n",
    "accuracy = accuracy_score(y_test_m, y_pred_median)\n",
    "print(\"Accuracy:\", accuracy)"
   ]
  },
  {
   "cell_type": "code",
   "execution_count": 47,
   "id": "908451d6",
   "metadata": {},
   "outputs": [
    {
     "name": "stdout",
     "output_type": "stream",
     "text": [
      "Accuracy: 0.8109988776655443\n"
     ]
    }
   ],
   "source": [
    "rf = RandomForestClassifier(n_estimators=250,max_features='log2', n_jobs = -1)\n",
    "rf.fit(X_train,y_train)\n",
    "y_pred = rf_median.predict(X_test)\n",
    "accuracy = accuracy_score(y_test, y_pred_median)\n",
    "print(\"Accuracy:\", accuracy)"
   ]
  },
  {
   "cell_type": "code",
   "execution_count": null,
   "id": "6b737394",
   "metadata": {},
   "outputs": [],
   "source": []
  }
 ],
 "metadata": {
  "kernelspec": {
   "display_name": "Python 3 (ipykernel)",
   "language": "python",
   "name": "python3"
  },
  "language_info": {
   "codemirror_mode": {
    "name": "ipython",
    "version": 3
   },
   "file_extension": ".py",
   "mimetype": "text/x-python",
   "name": "python",
   "nbconvert_exporter": "python",
   "pygments_lexer": "ipython3",
   "version": "3.9.19"
  }
 },
 "nbformat": 4,
 "nbformat_minor": 5
}
